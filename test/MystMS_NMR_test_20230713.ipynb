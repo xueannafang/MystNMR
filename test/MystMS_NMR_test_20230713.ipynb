{
 "cells": [
  {
   "cell_type": "code",
   "execution_count": 2,
   "metadata": {},
   "outputs": [],
   "source": [
    "import numpy as np"
   ]
  },
  {
   "cell_type": "code",
   "execution_count": 8,
   "metadata": {},
   "outputs": [
    {
     "name": "stdout",
     "output_type": "stream",
     "text": [
      "ACG: \n",
      "[[3 3 0]\n",
      " [6 4 4]\n",
      " [9 6 6]]\n",
      "ABC: \n",
      "[[3 3 0]\n",
      " [2 2 2]\n",
      " [6 4 4]]\n",
      "shape of ABC:\n",
      "(3, 3)\n"
     ]
    }
   ],
   "source": [
    "coeff_A = [3, 3, 0]\n",
    "coeff_B = [2, 2, 2]\n",
    "coeff_C = [6, 4, 4]\n",
    "coeff_D = [6, 4, 4]\n",
    "coeff_EF = [54, 36, 36]\n",
    "coeff_G = [9, 6, 6]\n",
    "\n",
    "\n",
    "coeff_mat_ACG = np.array([coeff_A, coeff_C, coeff_G])\n",
    "\n",
    "print(\"ACG: \")\n",
    "print(coeff_mat_ACG)\n",
    "\n",
    "coeff_mat_ABC = np.array([coeff_A, coeff_B, coeff_C])\n",
    "\n",
    "print(\"ABC: \")\n",
    "print(coeff_mat_ABC)\n",
    "\n",
    "print(\"shape of ABC:\")\n",
    "print(coeff_mat_ABC.shape)\n"
   ]
  },
  {
   "cell_type": "code",
   "execution_count": 11,
   "metadata": {},
   "outputs": [],
   "source": [
    "def mat_size(ndarray):\n",
    "    mat_size = ndarray.shape\n",
    "    row_number = mat_size[0]\n",
    "    col_number = mat_size[1]\n",
    "    return row_number, col_number"
   ]
  },
  {
   "cell_type": "code",
   "execution_count": 13,
   "metadata": {},
   "outputs": [
    {
     "name": "stdout",
     "output_type": "stream",
     "text": [
      "3\n",
      "3\n"
     ]
    }
   ],
   "source": [
    "row, col = mat_size(coeff_mat_ABC)\n",
    "print(row)\n",
    "print(col)"
   ]
  },
  {
   "cell_type": "code",
   "execution_count": 17,
   "metadata": {},
   "outputs": [
    {
     "data": {
      "text/plain": [
       "array([[-0.32838749, -0.9613948 ,  0.79534849],\n",
       "       [ 0.18984885, -0.74620523, -0.08779253],\n",
       "       [-0.45543865,  2.44022157, -0.27334675]])"
      ]
     },
     "execution_count": 17,
     "metadata": {},
     "output_type": "execute_result"
    }
   ],
   "source": [
    "np.random.normal(0, 1, (coeff_mat_ABC.shape))"
   ]
  },
  {
   "cell_type": "code",
   "execution_count": 16,
   "metadata": {},
   "outputs": [
    {
     "name": "stdout",
     "output_type": "stream",
     "text": [
      "[[ 7.40148683e-17 -1.00000000e+00  5.00000000e-01]\n",
      " [ 3.33333333e-01  1.00000000e+00 -5.00000000e-01]\n",
      " [-3.33333333e-01  5.00000000e-01  2.77555756e-17]]\n"
     ]
    }
   ],
   "source": [
    "coeff_mat_ABC_inv = np.linalg.inv(coeff_mat_ABC)\n",
    "print(coeff_mat_ABC_inv)"
   ]
  },
  {
   "cell_type": "code",
   "execution_count": 64,
   "metadata": {},
   "outputs": [
    {
     "name": "stdout",
     "output_type": "stream",
     "text": [
      "[[ 0.11574379 -0.1411183  -0.12497416]\n",
      " [-0.0573074   0.16621342  0.11045566]\n",
      " [-0.04813959  0.02897176  0.0474265 ]]\n"
     ]
    }
   ],
   "source": [
    "ptb_on_ABC_inv = np.random.normal(0, 0.1, coeff_mat_ABC.T.shape)\n",
    "err_on_ABC_inv = np.dot(coeff_mat_ABC_inv, ptb_on_ABC_inv)\n",
    "\n",
    "print(err_on_ABC_inv)"
   ]
  },
  {
   "cell_type": "code",
   "execution_count": 65,
   "metadata": {},
   "outputs": [],
   "source": [
    "ptbed_ABC_inv = coeff_mat_ABC_inv + err_on_ABC_inv"
   ]
  },
  {
   "cell_type": "code",
   "execution_count": 66,
   "metadata": {},
   "outputs": [],
   "source": [
    "test_data_2327_DMF = {\n",
    "    'solv' : 'DMF',\n",
    "    'sample_id' : '2327',\n",
    "    'rxn_days' : 3,\n",
    "    'A' : 3,\n",
    "    'B' : 1.9,\n",
    "    'C' : 6.34,\n",
    "    'D' : 10.57,\n",
    "    'EF' : 76.7,\n",
    "    'G' : 12.6\n",
    "}\n",
    "\n",
    "\n",
    "test_data_2328_DMSO = {\n",
    "    'solv' : 'DMSO',\n",
    "    'sample_id' : '2328',\n",
    "    'rxn_days' : 3,\n",
    "    'A' : 3,\n",
    "    'B' : 1.79,\n",
    "    'C' : 6.12,\n",
    "    'D' : 12.06,\n",
    "    'EF' : 77.92,\n",
    "    'G' : 12.07\n",
    "}\n"
   ]
  },
  {
   "cell_type": "code",
   "execution_count": 67,
   "metadata": {},
   "outputs": [
    {
     "name": "stdout",
     "output_type": "stream",
     "text": [
      "A\n",
      "3\n",
      "B\n",
      "1.9\n",
      "C\n",
      "6.34\n",
      "(3,)\n"
     ]
    }
   ],
   "source": [
    "def mat_B(test_data, peak_list = ['A', 'B', 'C']):\n",
    "    \n",
    "    mat_B_list = []\n",
    "    \n",
    "    for i, peak in enumerate(peak_list):\n",
    "        peak_name = peak\n",
    "        peak_int = test_data[peak]\n",
    "        print(peak_name)\n",
    "        print(peak_int)\n",
    "        mat_B_list.append(peak_int)\n",
    "    \n",
    "    mat_B = np.array(mat_B_list)\n",
    "    \n",
    "    return mat_B\n",
    "\n",
    "mat_B_test = mat_B(test_data_2327_DMF)\n",
    "print(mat_B_test.shape)"
   ]
  },
  {
   "cell_type": "code",
   "execution_count": 71,
   "metadata": {},
   "outputs": [],
   "source": [
    "before_norm_result = np.dot(ptbed_ABC_inv, mat_B_test)"
   ]
  },
  {
   "cell_type": "code",
   "execution_count": 72,
   "metadata": {},
   "outputs": [],
   "source": [
    "def norm_coeff(ndarray):\n",
    "    \n",
    "    sum_array = np.sum(ndarray)\n",
    "    norm_list = []\n",
    "    \n",
    "    for i, item in enumerate(ndarray):\n",
    "        norm_item = item/sum_array\n",
    "        norm_list.append(norm_item)\n",
    "    \n",
    "    norm_array = np.array(norm_list)\n",
    "    \n",
    "    return norm_array"
   ]
  },
  {
   "cell_type": "code",
   "execution_count": 73,
   "metadata": {},
   "outputs": [
    {
     "name": "stdout",
     "output_type": "stream",
     "text": [
      "[0.43085209 0.44431829 0.12482962]\n"
     ]
    }
   ],
   "source": [
    "norm_result = norm_coeff(before_norm_result)\n",
    "print(norm_result)"
   ]
  },
  {
   "cell_type": "code",
   "execution_count": 75,
   "metadata": {},
   "outputs": [
    {
     "name": "stdout",
     "output_type": "stream",
     "text": [
      "A\n",
      "3\n",
      "B\n",
      "1.79\n",
      "C\n",
      "6.12\n",
      "[0.48999582 0.43428049 0.07572369]\n"
     ]
    }
   ],
   "source": [
    "mat_B_DMSO = mat_B(test_data_2328_DMSO)\n",
    "DMSO_before_norm = np.dot(ptbed_ABC_inv, mat_B_DMSO)\n",
    "DMSO_norm = norm_coeff(DMSO_before_norm)\n",
    "print(DMSO_norm)"
   ]
  },
  {
   "cell_type": "code",
   "execution_count": null,
   "metadata": {},
   "outputs": [],
   "source": [
    "coeff_A = [3, 3, 0]\n",
    "coeff_B = [2, 2, 2]\n",
    "coeff_C = [6, 4, 4]\n",
    "coeff_D = [6, 4, 4]\n",
    "coeff_EF = [54, 36, 36]\n",
    "coeff_G = [9, 6, 6]\n",
    "\n",
    "\n",
    "coeff_mat_ABC = np.array([coeff_A, coeff_B, coeff_C])\n",
    "coeff_mat_ABC_inv = np.linalg.inv(coeff_mat_ABC)\n",
    "ptb_on_ABC_inv = np.random.normal(0, 0.1, coeff_mat_ABC.T.shape)\n",
    "err_on_ABC_inv = np.dot(coeff_mat_ABC_inv, ptb_on_ABC_inv)\n",
    "ptbed_ABC_inv = coeff_mat_ABC_inv + err_on_ABC_inv\n",
    "\n",
    "\n",
    "\n",
    "def calc_sp_ratio(test_data, peak_list = ['A', 'B', 'C']):\n",
    "    \n",
    "    mat_B = mat_B(test_data, peak_list = peak_list)\n",
    "    "
   ]
  },
  {
   "cell_type": "code",
   "execution_count": null,
   "metadata": {},
   "outputs": [],
   "source": []
  },
  {
   "cell_type": "code",
   "execution_count": null,
   "metadata": {},
   "outputs": [],
   "source": [
    "\n"
   ]
  },
  {
   "cell_type": "code",
   "execution_count": null,
   "metadata": {},
   "outputs": [],
   "source": []
  },
  {
   "cell_type": "code",
   "execution_count": null,
   "metadata": {},
   "outputs": [],
   "source": []
  },
  {
   "cell_type": "code",
   "execution_count": null,
   "metadata": {},
   "outputs": [],
   "source": []
  },
  {
   "cell_type": "code",
   "execution_count": null,
   "metadata": {},
   "outputs": [],
   "source": []
  },
  {
   "cell_type": "code",
   "execution_count": null,
   "metadata": {},
   "outputs": [],
   "source": []
  },
  {
   "cell_type": "code",
   "execution_count": null,
   "metadata": {},
   "outputs": [],
   "source": []
  },
  {
   "cell_type": "code",
   "execution_count": 23,
   "metadata": {},
   "outputs": [
    {
     "name": "stdout",
     "output_type": "stream",
     "text": [
      "[ 2.37163205 -1.37163205 -0.05      ]\n"
     ]
    }
   ],
   "source": [
    "coeff_mat = np.array([[3, 3, 0], [2, 2, 2], [6, 4, 4], [54, 36, 36], [9, 6, 6]])\n",
    "nmr_int_mat = np.array([3, 1.9, 10.57, 76.7, 12.6])\n",
    "lpinv_coeff_mat = np.linalg.pinv(coeff_mat)\n",
    "stc_vec = np.dot(lpinv_coeff_mat, nmr_int_mat)\n",
    "print(stc_vec)"
   ]
  },
  {
   "cell_type": "code",
   "execution_count": 31,
   "metadata": {},
   "outputs": [
    {
     "name": "stdout",
     "output_type": "stream",
     "text": [
      "result validation: \n",
      "[ 3.          1.9         8.54326409 76.88937685 12.81489614]\n",
      "error: \n",
      "[-2.48689958e-14 -1.19904087e-14 -2.02673591e+00  1.89376855e-01\n",
      "  2.14896142e-01]\n"
     ]
    }
   ],
   "source": [
    "rslt_vld_test = np.dot(coeff_mat, stc_vec)\n",
    "print('result validation: ')\n",
    "print(rslt_vld_test)\n",
    "\n",
    "vld_test_err = rslt_vld_test - nmr_int_mat\n",
    "print('error: ')\n",
    "print(vld_test_err)"
   ]
  },
  {
   "cell_type": "markdown",
   "metadata": {},
   "source": [
    "issue: 6 equations, 3 unknowns -> reliability of results?\n",
    "eq 2 and 3 are expected to be same, but from the NMR integral, not really.\n",
    "same coefficient -> redundant information?"
   ]
  },
  {
   "cell_type": "markdown",
   "metadata": {},
   "source": [
    "XF2327"
   ]
  },
  {
   "cell_type": "code",
   "execution_count": 2,
   "metadata": {},
   "outputs": [],
   "source": [
    "# DMF, 3d, xf2327\n",
    "\n",
    "coeff_mat = np.array([[3, 3, 0], [2, 2, 2], [6, 4, 4], [6, 4, 4], [54, 36, 36], [9, 6, 6]])\n",
    "nmr_int_mat = np.array([3, 1.9, 6.34, 10.57, 76.7, 12.6])\n",
    "\n",
    "# stc_vec = np.linalg.solve(coeff_mat, nmr_int_mat)\n",
    "\n",
    "# stc_vec"
   ]
  },
  {
   "cell_type": "code",
   "execution_count": 3,
   "metadata": {},
   "outputs": [],
   "source": [
    "lpinv_coeff_mat = np.linalg.pinv(coeff_mat)\n",
    "stc_vec = np.dot(lpinv_coeff_mat, nmr_int_mat)"
   ]
  },
  {
   "cell_type": "code",
   "execution_count": 4,
   "metadata": {},
   "outputs": [
    {
     "name": "stdout",
     "output_type": "stream",
     "text": [
      "[ 2.35870968 -1.35870968 -0.05      ]\n",
      "0.950000000000001\n",
      "[ 2.48285229 -1.43022071 -0.05263158]\n"
     ]
    }
   ],
   "source": [
    "stc_vec\n",
    "print(stc_vec)\n",
    "print(sum(stc_vec))\n",
    "print(stc_vec/sum(stc_vec))"
   ]
  },
  {
   "cell_type": "code",
   "execution_count": 5,
   "metadata": {},
   "outputs": [],
   "source": [
    "coeff_mat = np.array([[3, 3, 0], [2, 2, 2], [6, 4, 4], [6, 4, 4], [54, 36, 36], [9, 6, 6]]) # calculated from three products S3E0, S2E0 and S2E1\n",
    "\n",
    "def prod_ratio(ref_H, ortho_H, alpha_H, beta_H, alkyl_Hs, methyl_H, sample_id):\n",
    "\n",
    "    nmr_int_mat = np.array([ref_H, ortho_H, alpha_H, beta_H, alkyl_Hs, methyl_H])\n",
    "\n",
    "    lpinv_coeff_mat = np.linalg.pinv(coeff_mat)\n",
    "    stc_vec = np.dot(lpinv_coeff_mat, nmr_int_mat)\n",
    "\n",
    "    x, y, z = stc_vec\n",
    "    total_stc = sum(stc_vec)\n",
    "    px = x/total_stc\n",
    "    py = y/total_stc\n",
    "    pz = z/total_stc\n",
    "\n",
    "    print(sample_id, ':\\n', 'S3E0: ', px, '\\n', 'S2E0: ', py, '\\n', 'S2E1: ', pz)"
   ]
  },
  {
   "cell_type": "code",
   "execution_count": 6,
   "metadata": {},
   "outputs": [
    {
     "name": "stdout",
     "output_type": "stream",
     "text": [
      "XF2327_DMF_3d :\n",
      " S3E0:  2.4828522920203677 \n",
      " S2E0:  -1.4302207130730051 \n",
      " S2E1:  -0.05263157894736266\n"
     ]
    }
   ],
   "source": [
    "prod_ratio(3, 1.9, 6.34, 10.57, 76.7, 12.6, 'XF2327_DMF_3d')"
   ]
  },
  {
   "cell_type": "code",
   "execution_count": 7,
   "metadata": {},
   "outputs": [
    {
     "name": "stdout",
     "output_type": "stream",
     "text": [
      "XF2328_DMSO_3d :\n",
      " S3E0:  2.833401595701102 \n",
      " S2E0:  -1.7160831599469197 \n",
      " S2E1:  -0.11731843575418227\n"
     ]
    }
   ],
   "source": [
    "prod_ratio(3, 1.79, 6.12, 12.06, 77.92, 12.07, 'XF2328_DMSO_3d')"
   ]
  },
  {
   "cell_type": "code",
   "execution_count": 8,
   "metadata": {},
   "outputs": [],
   "source": [
    "# if unreacted BrAlkane was found, an additional correction step will be carried out to remove overlap fraction on the alkyl chain signals.\n",
    "\n",
    "def prod_ratio_rm_brak(ref_H, ortho_H, ori_alpha_H, ori_beta_H, ori_alkyl_Hs, ori_methyl_H, br_ak_alpha_Hs, sample_id):\n",
    "\n",
    "    alpha_H_rm = br_ak_alpha_Hs\n",
    "    beta_H_rm = br_ak_alpha_Hs\n",
    "    alkyl_Hs_rm = 9*br_ak_alpha_Hs\n",
    "    methyl_H_rm = 1.5*br_ak_alpha_Hs\n",
    "\n",
    "    updt_alpha_H = ori_alpha_H - alpha_H_rm\n",
    "    updt_beta_H = ori_beta_H - beta_H_rm\n",
    "    updt_alkyl_Hs = ori_alkyl_Hs - alkyl_Hs_rm\n",
    "    updt_methyl_H = ori_methyl_H - methyl_H_rm\n",
    "\n",
    "    prod_ratio(ref_H, ortho_H, updt_alpha_H, updt_beta_H, updt_alkyl_Hs, updt_methyl_H, sample_id)\n"
   ]
  },
  {
   "cell_type": "code",
   "execution_count": 9,
   "metadata": {},
   "outputs": [
    {
     "name": "stdout",
     "output_type": "stream",
     "text": [
      "XF2307_DMF_2d :\n",
      " S3E0:  -0.08245167771098937 \n",
      " S2E0:  0.634937865556297 \n",
      " S2E1:  0.44751381215469227\n"
     ]
    }
   ],
   "source": [
    "prod_ratio_rm_brak(3, 3.62, 6.62, 6.77, 74.97, 11.92, 1.34, 'XF2307_DMF_2d')"
   ]
  },
  {
   "cell_type": "code",
   "execution_count": 10,
   "metadata": {},
   "outputs": [
    {
     "name": "stdout",
     "output_type": "stream",
     "text": [
      "XF2307_DMF_2d_2_rxl_rm_layer :\n",
      " S3E0:  -1.3447355726897519 \n",
      " S2E0:  1.6058321784338856 \n",
      " S2E1:  0.7389033942558663\n"
     ]
    }
   ],
   "source": [
    "prod_ratio_rm_brak(3, 7.66, 6.81, 6.84, 66.78, 10.18, 2.37, 'XF2307_DMF_2d_2_rxl_rm_layer')"
   ]
  },
  {
   "cell_type": "markdown",
   "metadata": {},
   "source": [
    "the above cell suggests the recrystallisation can selectively remove disubstituted products and hydrolysis derivatives\n",
    "\n",
    "but it also could be the inaccuracy led by signals overlapped with solvent residue (ortho H and alkyl Hs)"
   ]
  },
  {
   "cell_type": "code",
   "execution_count": 11,
   "metadata": {},
   "outputs": [
    {
     "name": "stdout",
     "output_type": "stream",
     "text": [
      "XF2308_tBuOH_24_DMSO_76_2d :\n",
      " S3E0:  0.38702502981875464 \n",
      " S2E0:  0.22459576528828068 \n",
      " S2E1:  0.3883792048929647\n",
      "XF2308_tBuOH_24_DMSO_76_2d_2_rxl_rm_layer :\n",
      " S3E0:  -0.38220676306004064 \n",
      " S2E0:  0.8784846786927999 \n",
      " S2E1:  0.5037220843672408\n"
     ]
    }
   ],
   "source": [
    "prod_ratio_rm_brak(3, 3.27, 6.24, 10.87, 84.28, 15.19, 1.56, 'XF2308_tBuOH_24_DMSO_76_2d')\n",
    "prod_ratio_rm_brak(3, 4.03, 7.07, 6.95, 57.29, 17.45, 0, 'XF2308_tBuOH_24_DMSO_76_2d_2_rxl_rm_layer')"
   ]
  },
  {
   "cell_type": "code",
   "execution_count": 12,
   "metadata": {},
   "outputs": [
    {
     "name": "stdout",
     "output_type": "stream",
     "text": [
      "XF2309_IPA_23_DMSO_77_2d :\n",
      " S3E0:  -0.4396732299958097 \n",
      " S2E0:  0.9498773116284681 \n",
      " S2E1:  0.4897959183673416\n",
      "XF2309_IPA_23_DMSO_77_2d_2_rxl_rm_layer :\n",
      " S3E0:  0.14151207618043413 \n",
      " S2E0:  0.4202856766285576 \n",
      " S2E1:  0.43820224719100836\n"
     ]
    }
   ],
   "source": [
    "prod_ratio_rm_brak(3, 3.92, 6.64, 7.98, 69.2, 15.88, 1.64, 'XF2309_IPA_23_DMSO_77_2d')\n",
    "prod_ratio_rm_brak(3, 3.56, 6.58, 6.5, 71.99, 14.79, 0.39, 'XF2309_IPA_23_DMSO_77_2d_2_rxl_rm_layer')"
   ]
  },
  {
   "cell_type": "code",
   "execution_count": 13,
   "metadata": {},
   "outputs": [
    {
     "name": "stdout",
     "output_type": "stream",
     "text": [
      "XF2310_IPA_30_ACN_31_NMI_39_2d :\n",
      " S3E0:  1.8766319848953492 \n",
      " S2E0:  -0.9633899757629323 \n",
      " S2E1:  0.0867579908675831\n"
     ]
    }
   ],
   "source": [
    "prod_ratio_rm_brak(3, 2.19, 7.91, 7.66, 77.07, 11.41, 0.03, 'XF2310_IPA_30_ACN_31_NMI_39_2d')"
   ]
  },
  {
   "cell_type": "code",
   "execution_count": 14,
   "metadata": {},
   "outputs": [
    {
     "name": "stdout",
     "output_type": "stream",
     "text": [
      "XF2311_EA_10_DMSO_73_EtOH_17_2d :\n",
      " S3E0:  1.4376450081852354 \n",
      " S2E0:  -0.634432156779614 \n",
      " S2E1:  0.19678714859437843\n",
      "XF2311_EA_10_DMSO_73_EtOH_17_2d_2_rxl_rm_layer :\n",
      " S3E0:  -1.073692770175546 \n",
      " S2E0:  1.3246337990337718 \n",
      " S2E1:  0.7490589711417743\n"
     ]
    }
   ],
   "source": [
    "prod_ratio_rm_brak(3, 2.49, 6.55, 7.95, 86.86, 14.19, 1.03, 'XF2311_EA_10_DMSO_73_EtOH_17_2d')\n",
    "prod_ratio_rm_brak(3, 7.97, 6.26, 4.87, 69.58, 15.71, 0.37, 'XF2311_EA_10_DMSO_73_EtOH_17_2d_2_rxl_rm_layer')"
   ]
  },
  {
   "cell_type": "code",
   "execution_count": 15,
   "metadata": {},
   "outputs": [
    {
     "name": "stdout",
     "output_type": "stream",
     "text": [
      "XF2312_DMSO_79_EtOH_21_2d :\n",
      " S3E0:  -1.5145148613587747 \n",
      " S2E0:  1.6586070803789563 \n",
      " S2E1:  0.8559077809798183\n"
     ]
    }
   ],
   "source": [
    "prod_ratio_rm_brak(3, 13.88, 5.5, 11.38, 60.23, 10.34, 0, 'XF2312_DMSO_79_EtOH_21_2d') # this group may have issue with the ortho_H integral due to large overlap with CDCl3 peak"
   ]
  },
  {
   "cell_type": "code",
   "execution_count": 16,
   "metadata": {},
   "outputs": [
    {
     "name": "stdout",
     "output_type": "stream",
     "text": [
      "XF2313_EA_23_DMSO_77_2d :\n",
      " S3E0:  -1.2894720298210502 \n",
      " S2E0:  1.5416788394049168 \n",
      " S2E1:  0.7477931904161332\n"
     ]
    }
   ],
   "source": [
    "prod_ratio_rm_brak(3, 7.93, 7.36, 7.26, 49.44, 13.84, 0, 'XF2313_EA_23_DMSO_77_2d')"
   ]
  },
  {
   "cell_type": "code",
   "execution_count": 17,
   "metadata": {},
   "outputs": [
    {
     "name": "stdout",
     "output_type": "stream",
     "text": [
      "XF2319_tBuOH_19_DMSO_76_EtOH_5_2d :\n",
      " S3E0:  1.054105571847504 \n",
      " S2E0:  -0.22077223851417152 \n",
      " S2E1:  0.16666666666666752\n",
      "XF2319_tBuOH_19_DMSO_76_EtOH_5_2d_F_crash_from_filtrate :\n",
      " S3E0:  0.33294232649071076 \n",
      " S2E0:  0.5003910068426246 \n",
      " S2E1:  0.16666666666666466\n",
      "XF2319_tBuOH_19_DMSO_76_EtOH_5_2d_F_crash_from_filtrate_rxl_rm_layer :\n",
      " S3E0:  0.673527059450809 \n",
      " S2E0:  0.23556384964010055 \n",
      " S2E1:  0.09090909090909047\n"
     ]
    }
   ],
   "source": [
    "prod_ratio_rm_brak(3, 2.4, 5.87, 9.49, 65.49, 13.4, 0, 'XF2319_tBuOH_19_DMSO_76_EtOH_5_2d')\n",
    "prod_ratio_rm_brak(3, 2.4, 6.26, 6.93, 49.36, 13.26, 0, 'XF2319_tBuOH_19_DMSO_76_EtOH_5_2d_F_crash_from_filtrate')\n",
    "prod_ratio_rm_brak(3, 2.2, 5.9, 6.91, 52.86, 8.58, 0, 'XF2319_tBuOH_19_DMSO_76_EtOH_5_2d_F_crash_from_filtrate_rxl_rm_layer')"
   ]
  },
  {
   "cell_type": "code",
   "execution_count": 18,
   "metadata": {},
   "outputs": [
    {
     "name": "stdout",
     "output_type": "stream",
     "text": [
      "XF2320_TEA_6_DMSO_94_2d :\n",
      " S3E0:  1.2231876150855863 \n",
      " S2E0:  -0.29295505694605256 \n",
      " S2E1:  0.06976744186046627\n",
      "XF2320_TEA_6_DMSO_94_2d_crude :\n",
      " S3E0:  0.9073574981894144 \n",
      " S2E0:  -0.0976408989991307 \n",
      " S2E1:  0.19028340080971626\n"
     ]
    }
   ],
   "source": [
    "prod_ratio_rm_brak(3, 2.15, 6.44, 7.4, 62.37, 10.4, 0, 'XF2320_TEA_6_DMSO_94_2d')\n",
    "prod_ratio_rm_brak(3, 2.47, 6.38, 6.67, 64.77, 10.81, 0, 'XF2320_TEA_6_DMSO_94_2d_crude')"
   ]
  },
  {
   "cell_type": "code",
   "execution_count": 19,
   "metadata": {},
   "outputs": [
    {
     "name": "stdout",
     "output_type": "stream",
     "text": [
      "XF2321_DMSO_75_TEA_5_EtOH_20_2d :\n",
      " S3E0:  0.6332010810189138 \n",
      " S2E0:  0.34719107584383174 \n",
      " S2E1:  0.01960784313725448\n",
      "XF2321_DMSO_75_TEA_5_EtOH_20_2d_crude :\n",
      " S3E0:  0.8959896408576737 \n",
      " S2E0:  -0.030188775056807775 \n",
      " S2E1:  0.1341991341991341\n"
     ]
    }
   ],
   "source": [
    "prod_ratio_rm_brak(3, 2.04, 5.92, 6.46, 48.31, 7.18, 0, 'XF2321_DMSO_75_TEA_5_EtOH_20_2d')\n",
    "prod_ratio_rm_brak(3, 2.31, 6.06, 7.11, 60.11, 10.76, 0, 'XF2321_DMSO_75_TEA_5_EtOH_20_2d_crude')"
   ]
  },
  {
   "cell_type": "markdown",
   "metadata": {},
   "source": [
    "The ortho_H term and alkyl Hs might lead to mis prediction because it is deconvoluted from the overlapped peak with solvent residue (CDCl3, D2O).\n",
    "\n",
    "The following attempt will remove those dimensions."
   ]
  },
  {
   "cell_type": "code",
   "execution_count": 20,
   "metadata": {},
   "outputs": [],
   "source": [
    "coeff_mat = np.array([[3, 3, 0], [6, 4, 4], [6, 4, 4], [9, 6, 6]]) # calculated from three products S3E0, S2E0 and S2E1\n",
    "\n",
    "def prod_ratio_no_ovlp(ref_H, alpha_H, beta_H, methyl_H, sample_id):\n",
    "\n",
    "    nmr_int_mat = np.array([ref_H, alpha_H, beta_H, methyl_H])\n",
    "\n",
    "    lpinv_coeff_mat = np.linalg.pinv(coeff_mat)\n",
    "    stc_vec = np.dot(lpinv_coeff_mat, nmr_int_mat)\n",
    "\n",
    "    x, y, z = stc_vec\n",
    "    total_stc = sum(stc_vec)\n",
    "    px = x/total_stc\n",
    "    py = y/total_stc\n",
    "    pz = z/total_stc\n",
    "\n",
    "    print(sample_id, ':\\n', 'S3E0: ', px, '\\n', 'S2E0: ', py, '\\n', 'S2E1: ', pz)\n",
    "\n",
    "def prod_ratio_rm_brak_no_ovlp(ref_H, ori_alpha_H, ori_beta_H, ori_methyl_H, br_ak_alpha_Hs, sample_id):\n",
    "\n",
    "    alpha_H_rm = br_ak_alpha_Hs\n",
    "    beta_H_rm = br_ak_alpha_Hs\n",
    "    methyl_H_rm = 1.5*br_ak_alpha_Hs\n",
    "\n",
    "    updt_alpha_H = ori_alpha_H - alpha_H_rm\n",
    "    updt_beta_H = ori_beta_H - beta_H_rm\n",
    "    updt_methyl_H = ori_methyl_H - methyl_H_rm\n",
    "\n",
    "    prod_ratio_no_ovlp(ref_H, updt_alpha_H, updt_beta_H, updt_methyl_H, sample_id)\n"
   ]
  },
  {
   "cell_type": "code",
   "execution_count": 21,
   "metadata": {},
   "outputs": [
    {
     "name": "stdout",
     "output_type": "stream",
     "text": [
      "XF2313_EA_23_DMSO_77_2d_no_ortho_alkyl_test :\n",
      " S3E0:  0.39377537212449254 \n",
      " S2E0:  0.18132611637347731 \n",
      " S2E1:  0.4248985115020302\n"
     ]
    }
   ],
   "source": [
    "prod_ratio_rm_brak_no_ovlp(3, 7.36, 7.26, 13.84, 0, 'XF2313_EA_23_DMSO_77_2d_no_ortho_alkyl_test')"
   ]
  },
  {
   "cell_type": "code",
   "execution_count": 22,
   "metadata": {},
   "outputs": [
    {
     "name": "stdout",
     "output_type": "stream",
     "text": [
      "XF2307_DMF_2d_2_rxl_rm_layer_no_ovlp :\n",
      " S3E0:  0.5359171774555237 \n",
      " S2E0:  0.6077515323665723 \n",
      " S2E1:  -0.14366870982209598\n",
      "XF2308_tBuOH_24_DMSO_76_2d_2_rxl_rm_layer_no_ovlp :\n",
      " S3E0:  0.37559101654846333 \n",
      " S2E0:  0.1267730496453896 \n",
      " S2E1:  0.49763593380614707\n",
      "XF2312_DMSO_79_EtOH_21_2d_no_ovlp :\n",
      " S3E0:  0.4079795142904345 \n",
      " S2E0:  0.22393854287130316 \n",
      " S2E1:  0.36808194283826234\n",
      "XF2319_tBuOH_19_DMSO_76_EtOH_5_2d_F_crash_from_filtrate_no_ovlp :\n",
      " S3E0:  0.40445808431594255 \n",
      " S2E0:  0.21337425294782722 \n",
      " S2E1:  0.3821676627362303\n",
      "XF2321_DMSO_75_TEA_5_EtOH_20_2d_no_ovlp :\n",
      " S3E0:  0.4774078478002377 \n",
      " S2E0:  0.43222354340071345 \n",
      " S2E1:  0.09036860879904886\n"
     ]
    }
   ],
   "source": [
    "prod_ratio_rm_brak_no_ovlp(3, 6.81, 6.84, 10.18, 2.37, 'XF2307_DMF_2d_2_rxl_rm_layer_no_ovlp')\n",
    "prod_ratio_rm_brak_no_ovlp(3, 7.07, 6.95, 17.45, 0, 'XF2308_tBuOH_24_DMSO_76_2d_2_rxl_rm_layer_no_ovlp')\n",
    "prod_ratio_rm_brak_no_ovlp(3, 5.5, 11.38, 10.34, 0, 'XF2312_DMSO_79_EtOH_21_2d_no_ovlp')\n",
    "prod_ratio_rm_brak_no_ovlp(3, 6.26, 6.93, 13.26, 0, 'XF2319_tBuOH_19_DMSO_76_EtOH_5_2d_F_crash_from_filtrate_no_ovlp')\n",
    "prod_ratio_rm_brak_no_ovlp(3, 5.92, 6.46, 7.18, 0, 'XF2321_DMSO_75_TEA_5_EtOH_20_2d_no_ovlp')"
   ]
  },
  {
   "cell_type": "markdown",
   "metadata": {},
   "source": [
    "try to remove beta H signals for the final 2321:"
   ]
  },
  {
   "cell_type": "code",
   "execution_count": 23,
   "metadata": {},
   "outputs": [],
   "source": [
    "coeff_mat = np.array([[3, 3, 0], [6, 4, 4], [9, 6, 6]]) # calculated from three products S3E0, S2E0 and S2E1\n",
    "\n",
    "def prod_ratio_no_ovlp_b(ref_H, alpha_H, methyl_H, sample_id):\n",
    "\n",
    "    nmr_int_mat = np.array([ref_H, alpha_H, methyl_H])\n",
    "\n",
    "    lpinv_coeff_mat = np.linalg.pinv(coeff_mat)\n",
    "    stc_vec = np.dot(lpinv_coeff_mat, nmr_int_mat)\n",
    "\n",
    "    x, y, z = stc_vec\n",
    "    total_stc = sum(stc_vec)\n",
    "    px = x/total_stc\n",
    "    py = y/total_stc\n",
    "    pz = z/total_stc\n",
    "\n",
    "    print(sample_id, ':\\n', 'S3E0: ', px, '\\n', 'S2E0: ', py, '\\n', 'S2E1: ', pz)\n",
    "\n",
    "def prod_ratio_rm_brak_no_ovlp_b(ref_H, ori_alpha_H, ori_methyl_H, br_ak_alpha_Hs, sample_id):\n",
    "\n",
    "    alpha_H_rm = br_ak_alpha_Hs\n",
    "    methyl_H_rm = 1.5*br_ak_alpha_Hs\n",
    "\n",
    "    updt_alpha_H = ori_alpha_H - alpha_H_rm\n",
    "    updt_methyl_H = ori_methyl_H - methyl_H_rm\n",
    "\n",
    "    prod_ratio_no_ovlp_b(ref_H, updt_alpha_H, updt_methyl_H, sample_id)"
   ]
  },
  {
   "cell_type": "code",
   "execution_count": 24,
   "metadata": {},
   "outputs": [
    {
     "name": "stdout",
     "output_type": "stream",
     "text": [
      "XF2321_DMSO_75_TEA_5_EtOH_20_2d_no_ovlp_b :\n",
      " S3E0:  0.49269830733488235 \n",
      " S2E0:  0.47809492200464654 \n",
      " S2E1:  0.029206770660471136\n"
     ]
    }
   ],
   "source": [
    "prod_ratio_rm_brak_no_ovlp_b(3, 5.92, 7.18, 0, 'XF2321_DMSO_75_TEA_5_EtOH_20_2d_no_ovlp_b')"
   ]
  },
  {
   "cell_type": "markdown",
   "metadata": {},
   "source": [
    "remove methyl H"
   ]
  },
  {
   "cell_type": "code",
   "execution_count": 25,
   "metadata": {},
   "outputs": [],
   "source": [
    "coeff_mat = np.array([[3, 3, 0], [6, 4, 4], [6, 4, 4]]) # calculated from three products S3E0, S2E0 and S2E1\n",
    "\n",
    "def prod_ratio_no_ovlp_m(ref_H, alpha_H, beta_H, sample_id):\n",
    "\n",
    "    nmr_int_mat = np.array([ref_H, alpha_H, beta_H])\n",
    "\n",
    "    lpinv_coeff_mat = np.linalg.pinv(coeff_mat)\n",
    "    stc_vec = np.dot(lpinv_coeff_mat, nmr_int_mat)\n",
    "\n",
    "    x, y, z = stc_vec\n",
    "    total_stc = sum(stc_vec)\n",
    "    px = x/total_stc\n",
    "    py = y/total_stc\n",
    "    pz = z/total_stc\n",
    "\n",
    "    print(sample_id, ':\\n', 'S3E0: ', px, '\\n', 'S2E0: ', py, '\\n', 'S2E1: ', pz)\n",
    "\n",
    "def prod_ratio_rm_brak_no_ovlp_m(ref_H, ori_alpha_H, ori_beta_H, br_ak_alpha_Hs, sample_id):\n",
    "\n",
    "    alpha_H_rm = br_ak_alpha_Hs\n",
    "    beta_H_rm = br_ak_alpha_Hs\n",
    "\n",
    "    updt_alpha_H = ori_alpha_H - alpha_H_rm\n",
    "    updt_beta_H = ori_beta_H - beta_H_rm\n",
    "\n",
    "    prod_ratio_no_ovlp_m(ref_H, updt_alpha_H, updt_beta_H, sample_id)"
   ]
  },
  {
   "cell_type": "code",
   "execution_count": 26,
   "metadata": {},
   "outputs": [
    {
     "name": "stdout",
     "output_type": "stream",
     "text": [
      "XF2321_DMSO_75_TEA_5_EtOH_20_2d_no_ovlp_m :\n",
      " S3E0:  0.44771528998242516 \n",
      " S2E0:  0.34314586994727597 \n",
      " S2E1:  0.20913884007029887\n"
     ]
    }
   ],
   "source": [
    "prod_ratio_rm_brak_no_ovlp_m(3, 5.92, 6.46, 0, 'XF2321_DMSO_75_TEA_5_EtOH_20_2d_no_ovlp_m')"
   ]
  },
  {
   "cell_type": "markdown",
   "metadata": {},
   "source": []
  }
 ],
 "metadata": {
  "kernelspec": {
   "display_name": "Python 3 (ipykernel)",
   "language": "python",
   "name": "python3"
  },
  "language_info": {
   "codemirror_mode": {
    "name": "ipython",
    "version": 3
   },
   "file_extension": ".py",
   "mimetype": "text/x-python",
   "name": "python",
   "nbconvert_exporter": "python",
   "pygments_lexer": "ipython3",
   "version": "3.9.2"
  }
 },
 "nbformat": 4,
 "nbformat_minor": 2
}
